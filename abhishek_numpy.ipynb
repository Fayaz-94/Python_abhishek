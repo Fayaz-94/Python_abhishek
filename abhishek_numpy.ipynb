{
 "cells": [
  {
   "cell_type": "code",
   "execution_count": null,
   "id": "4487df16",
   "metadata": {},
   "outputs": [],
   "source": [
    "introduction to python libraries :"
   ]
  },
  {
   "cell_type": "code",
   "execution_count": null,
   "id": "b6389bf1",
   "metadata": {},
   "outputs": [],
   "source": []
  },
  {
   "cell_type": "code",
   "execution_count": null,
   "id": "e69faac4",
   "metadata": {},
   "outputs": [],
   "source": [
    "class ------>"
   ]
  },
  {
   "cell_type": "code",
   "execution_count": null,
   "id": "f9a22c5a",
   "metadata": {},
   "outputs": [],
   "source": []
  },
  {
   "cell_type": "code",
   "execution_count": null,
   "id": "6a8c7349",
   "metadata": {},
   "outputs": [],
   "source": [
    "Group of class are written in a single file togther all those are called as modules."
   ]
  },
  {
   "cell_type": "code",
   "execution_count": null,
   "id": "32a7dd07",
   "metadata": {},
   "outputs": [],
   "source": []
  },
  {
   "cell_type": "code",
   "execution_count": null,
   "id": "c993bb87",
   "metadata": {},
   "outputs": [],
   "source": [
    "Group of moduules togther are called as library."
   ]
  },
  {
   "cell_type": "code",
   "execution_count": null,
   "id": "c1deb9ed",
   "metadata": {},
   "outputs": [],
   "source": []
  },
  {
   "cell_type": "code",
   "execution_count": null,
   "id": "364a90b6",
   "metadata": {},
   "outputs": [],
   "source": [
    "introduction to Numpy :"
   ]
  },
  {
   "cell_type": "code",
   "execution_count": null,
   "id": "34a24bf6",
   "metadata": {},
   "outputs": [],
   "source": [
    "Numpy stands for Numerical python.\n",
    "\n",
    "It will be acting as the foundational library in python.\n",
    "\n",
    "It is used for all the numerical computation and sceintific computations in mutiple domains.\n",
    "\n",
    "Numpy in shotform will be defined as np.\n",
    "\n",
    "It is having a datatype called as an array."
   ]
  },
  {
   "cell_type": "code",
   "execution_count": null,
   "id": "bfac53dd",
   "metadata": {},
   "outputs": [],
   "source": []
  },
  {
   "cell_type": "code",
   "execution_count": 1,
   "id": "0973a554",
   "metadata": {},
   "outputs": [],
   "source": [
    "import numpy as np  # np is an alias..."
   ]
  },
  {
   "cell_type": "code",
   "execution_count": null,
   "id": "d67ecc30",
   "metadata": {},
   "outputs": [],
   "source": []
  },
  {
   "cell_type": "code",
   "execution_count": null,
   "id": "988401b8",
   "metadata": {},
   "outputs": [],
   "source": [
    "array : It is an object defined in numpy  is an N - Dimesional array called ndarray"
   ]
  },
  {
   "cell_type": "code",
   "execution_count": null,
   "id": "3df6c55b",
   "metadata": {},
   "outputs": [],
   "source": []
  },
  {
   "cell_type": "code",
   "execution_count": 2,
   "id": "6e349f34",
   "metadata": {},
   "outputs": [
    {
     "name": "stdout",
     "output_type": "stream",
     "text": [
      "[1 2 3 4 5]\n"
     ]
    }
   ],
   "source": [
    "a = np.array([1,2,3,4,5])\n",
    "\n",
    "print(a)"
   ]
  },
  {
   "cell_type": "code",
   "execution_count": 3,
   "id": "15452223",
   "metadata": {},
   "outputs": [
    {
     "data": {
      "text/plain": [
       "numpy.ndarray"
      ]
     },
     "execution_count": 3,
     "metadata": {},
     "output_type": "execute_result"
    }
   ],
   "source": [
    "type(a)"
   ]
  },
  {
   "cell_type": "code",
   "execution_count": 6,
   "id": "9ce39843",
   "metadata": {},
   "outputs": [
    {
     "name": "stdout",
     "output_type": "stream",
     "text": [
      "[[1 2]\n",
      " [3 4]]\n"
     ]
    }
   ],
   "source": [
    "# printing a 2d array :\n",
    "\n",
    "b = np.array([[1,2],[3,4]])\n",
    "\n",
    "print(b)"
   ]
  },
  {
   "cell_type": "code",
   "execution_count": null,
   "id": "61d464db",
   "metadata": {},
   "outputs": [],
   "source": [
    "# req : i want to print an array of 20 numbers."
   ]
  },
  {
   "cell_type": "code",
   "execution_count": 8,
   "id": "4bd06240",
   "metadata": {},
   "outputs": [
    {
     "name": "stdout",
     "output_type": "stream",
     "text": [
      "[ 0  1  2  3  4  5  6  7  8  9 10 11 12 13 14 15 16 17 18 19 20]\n"
     ]
    }
   ],
   "source": [
    "a = np.arange(21)\n",
    "\n",
    "print(a)"
   ]
  },
  {
   "cell_type": "code",
   "execution_count": null,
   "id": "b3019f74",
   "metadata": {},
   "outputs": [],
   "source": [
    "Note : last value is always exclusive."
   ]
  },
  {
   "cell_type": "code",
   "execution_count": null,
   "id": "1b6dfebf",
   "metadata": {},
   "outputs": [],
   "source": []
  },
  {
   "cell_type": "code",
   "execution_count": null,
   "id": "ece2be6d",
   "metadata": {},
   "outputs": [],
   "source": [
    "# knowing the size."
   ]
  },
  {
   "cell_type": "code",
   "execution_count": 9,
   "id": "c52a0bd2",
   "metadata": {},
   "outputs": [
    {
     "name": "stdout",
     "output_type": "stream",
     "text": [
      "8\n"
     ]
    }
   ],
   "source": [
    "print(a.itemsize)"
   ]
  },
  {
   "cell_type": "code",
   "execution_count": null,
   "id": "cfa748b2",
   "metadata": {},
   "outputs": [],
   "source": []
  },
  {
   "cell_type": "code",
   "execution_count": null,
   "id": "bf922bf3",
   "metadata": {},
   "outputs": [],
   "source": [
    "Array of zeros>"
   ]
  },
  {
   "cell_type": "code",
   "execution_count": 10,
   "id": "2a00e881",
   "metadata": {},
   "outputs": [
    {
     "name": "stdout",
     "output_type": "stream",
     "text": [
      "[0. 0. 0. 0. 0.]\n"
     ]
    }
   ],
   "source": [
    "x = np.zeros(5)\n",
    "\n",
    "print(x)"
   ]
  },
  {
   "cell_type": "code",
   "execution_count": 11,
   "id": "9e5104bd",
   "metadata": {},
   "outputs": [
    {
     "name": "stdout",
     "output_type": "stream",
     "text": [
      "[[0. 0. 0. 0. 0.]\n",
      " [0. 0. 0. 0. 0.]\n",
      " [0. 0. 0. 0. 0.]\n",
      " [0. 0. 0. 0. 0.]]\n"
     ]
    }
   ],
   "source": [
    "x = np.zeros((4,5))  # (x,y) ===>  x is for rows and y is for cols.\n",
    "\n",
    "print(x)"
   ]
  },
  {
   "cell_type": "code",
   "execution_count": null,
   "id": "acc6e2da",
   "metadata": {},
   "outputs": [],
   "source": []
  },
  {
   "cell_type": "code",
   "execution_count": null,
   "id": "092c902f",
   "metadata": {},
   "outputs": [],
   "source": [
    "Array of ones."
   ]
  },
  {
   "cell_type": "code",
   "execution_count": 12,
   "id": "8cdfbd77",
   "metadata": {},
   "outputs": [
    {
     "name": "stdout",
     "output_type": "stream",
     "text": [
      "[[1. 1. 1. 1.]\n",
      " [1. 1. 1. 1.]\n",
      " [1. 1. 1. 1.]]\n"
     ]
    }
   ],
   "source": [
    "y = np.ones((3,4))\n",
    "\n",
    "print(y)"
   ]
  },
  {
   "cell_type": "code",
   "execution_count": null,
   "id": "f4e6b1fb",
   "metadata": {},
   "outputs": [],
   "source": []
  },
  {
   "cell_type": "code",
   "execution_count": null,
   "id": "bef2b994",
   "metadata": {},
   "outputs": [],
   "source": [
    "what is the between list and array, if given both to you what do you choose? why and explain?"
   ]
  },
  {
   "cell_type": "code",
   "execution_count": null,
   "id": "61fd3935",
   "metadata": {},
   "outputs": [],
   "source": [
    "reason : storage and internal memroy allocation."
   ]
  },
  {
   "cell_type": "code",
   "execution_count": null,
   "id": "280df895",
   "metadata": {},
   "outputs": [],
   "source": []
  },
  {
   "cell_type": "code",
   "execution_count": null,
   "id": "a10da80a",
   "metadata": {},
   "outputs": [],
   "source": [
    "Statical computing in Numpy:"
   ]
  },
  {
   "cell_type": "code",
   "execution_count": null,
   "id": "7f0b8bf6",
   "metadata": {},
   "outputs": [],
   "source": []
  }
 ],
 "metadata": {
  "kernelspec": {
   "display_name": "Python 3",
   "language": "python",
   "name": "python3"
  },
  "language_info": {
   "codemirror_mode": {
    "name": "ipython",
    "version": 3
   },
   "file_extension": ".py",
   "mimetype": "text/x-python",
   "name": "python",
   "nbconvert_exporter": "python",
   "pygments_lexer": "ipython3",
   "version": "3.8.8"
  }
 },
 "nbformat": 4,
 "nbformat_minor": 5
}
