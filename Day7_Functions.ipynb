{
 "cells": [
  {
   "cell_type": "code",
   "execution_count": null,
   "id": "9025e183",
   "metadata": {},
   "outputs": [],
   "source": [
    "introductions to functions:"
   ]
  },
  {
   "cell_type": "code",
   "execution_count": null,
   "id": "0a270110",
   "metadata": {},
   "outputs": [],
   "source": []
  },
  {
   "cell_type": "code",
   "execution_count": null,
   "id": "c71c723d",
   "metadata": {},
   "outputs": [],
   "source": [
    "String\n",
    "list\n",
    "tuple\n",
    "dictionary"
   ]
  },
  {
   "cell_type": "code",
   "execution_count": null,
   "id": "85f272ae",
   "metadata": {},
   "outputs": [],
   "source": []
  },
  {
   "cell_type": "code",
   "execution_count": null,
   "id": "beffcc52",
   "metadata": {},
   "outputs": [],
   "source": [
    "When we want to have our own requirements to be defined we can go with the functions."
   ]
  },
  {
   "cell_type": "code",
   "execution_count": null,
   "id": "8a434749",
   "metadata": {},
   "outputs": [],
   "source": []
  },
  {
   "cell_type": "code",
   "execution_count": null,
   "id": "562c29ad",
   "metadata": {},
   "outputs": [],
   "source": [
    "def --> is the keyword to be used for defining the functions.\n",
    "\n",
    "While giving the function name we have to write it in small case."
   ]
  },
  {
   "cell_type": "code",
   "execution_count": null,
   "id": "5458db49",
   "metadata": {},
   "outputs": [],
   "source": []
  },
  {
   "cell_type": "code",
   "execution_count": null,
   "id": "2daf3127",
   "metadata": {},
   "outputs": [],
   "source": [
    "# req: greet function."
   ]
  },
  {
   "cell_type": "code",
   "execution_count": 1,
   "id": "60c3ae1a",
   "metadata": {},
   "outputs": [],
   "source": [
    "# we are defining or declaring the function\n",
    "\n",
    "def greet():  # it is the fun name\n",
    "    \"\"\"defining a greet function\"\"\"   # doc strings ---> commenting inside the function.\n",
    "    print(\"Hello\")  # output logic"
   ]
  },
  {
   "cell_type": "code",
   "execution_count": null,
   "id": "dbada563",
   "metadata": {},
   "outputs": [],
   "source": []
  },
  {
   "cell_type": "code",
   "execution_count": 2,
   "id": "db9b3268",
   "metadata": {},
   "outputs": [
    {
     "name": "stdout",
     "output_type": "stream",
     "text": [
      "Hello\n"
     ]
    }
   ],
   "source": [
    "greet() # calling the function or function call."
   ]
  },
  {
   "cell_type": "code",
   "execution_count": 3,
   "id": "2ee6c7ca",
   "metadata": {},
   "outputs": [
    {
     "name": "stdout",
     "output_type": "stream",
     "text": [
      "Hello\n"
     ]
    }
   ],
   "source": [
    "greet()"
   ]
  },
  {
   "cell_type": "code",
   "execution_count": 4,
   "id": "154d8b6a",
   "metadata": {},
   "outputs": [
    {
     "name": "stdout",
     "output_type": "stream",
     "text": [
      "Hello\n"
     ]
    }
   ],
   "source": [
    "greet()"
   ]
  },
  {
   "cell_type": "code",
   "execution_count": null,
   "id": "efd56ee0",
   "metadata": {},
   "outputs": [],
   "source": []
  },
  {
   "cell_type": "code",
   "execution_count": null,
   "id": "2f95665b",
   "metadata": {},
   "outputs": [],
   "source": [
    "# req: To greet the user"
   ]
  },
  {
   "cell_type": "code",
   "execution_count": null,
   "id": "91048d8b",
   "metadata": {},
   "outputs": [],
   "source": []
  },
  {
   "cell_type": "code",
   "execution_count": 5,
   "id": "ca007c80",
   "metadata": {},
   "outputs": [],
   "source": [
    "def greetuser(username):  # parameter passing\n",
    "    \"\"\"creating a function for greeting the user\"\"\"\n",
    "    print(f\"Hello, {username.title()}\")"
   ]
  },
  {
   "cell_type": "code",
   "execution_count": null,
   "id": "3db7d2b6",
   "metadata": {},
   "outputs": [],
   "source": []
  },
  {
   "cell_type": "code",
   "execution_count": 6,
   "id": "7efc7358",
   "metadata": {},
   "outputs": [
    {
     "name": "stdout",
     "output_type": "stream",
     "text": [
      "Hello, Abhishek\n"
     ]
    }
   ],
   "source": [
    "greetuser('abhishek')  # arguments passing"
   ]
  },
  {
   "cell_type": "code",
   "execution_count": 7,
   "id": "fa16d604",
   "metadata": {},
   "outputs": [
    {
     "name": "stdout",
     "output_type": "stream",
     "text": [
      "Hello, Sunil\n"
     ]
    }
   ],
   "source": [
    "greetuser('sunil')"
   ]
  },
  {
   "cell_type": "code",
   "execution_count": null,
   "id": "3bc6720d",
   "metadata": {},
   "outputs": [],
   "source": [
    "Types of arguments :"
   ]
  },
  {
   "cell_type": "code",
   "execution_count": null,
   "id": "73fbae89",
   "metadata": {},
   "outputs": [],
   "source": []
  },
  {
   "cell_type": "code",
   "execution_count": null,
   "id": "44d65ca2",
   "metadata": {},
   "outputs": [],
   "source": [
    "# req : create a function name as \"describe_pet\" which accepts the below parameteres\n",
    "\n",
    "# animal_type and pet_name."
   ]
  },
  {
   "cell_type": "code",
   "execution_count": null,
   "id": "4b569cd5",
   "metadata": {},
   "outputs": [],
   "source": []
  },
  {
   "cell_type": "code",
   "execution_count": 8,
   "id": "a5abae8a",
   "metadata": {},
   "outputs": [],
   "source": [
    "# defining the function.\n",
    "\n",
    "def describe_pet(animal_type,pet_name):\n",
    "    \"\"\"creating a function for describing the pet\"\"\"\n",
    "    print(f\"I have a {animal_type}\")\n",
    "    print(f\"my {animal_type}'s name is {pet_name}\")"
   ]
  },
  {
   "cell_type": "code",
   "execution_count": null,
   "id": "ce0751eb",
   "metadata": {},
   "outputs": [],
   "source": []
  },
  {
   "cell_type": "code",
   "execution_count": null,
   "id": "7be31d09",
   "metadata": {},
   "outputs": [],
   "source": [
    "# calling the function."
   ]
  },
  {
   "cell_type": "code",
   "execution_count": 9,
   "id": "5863868f",
   "metadata": {},
   "outputs": [
    {
     "name": "stdout",
     "output_type": "stream",
     "text": [
      "I have a dog\n",
      "my dog's name is bruno\n"
     ]
    }
   ],
   "source": [
    "describe_pet('dog','bruno')"
   ]
  },
  {
   "cell_type": "code",
   "execution_count": 10,
   "id": "556143ed",
   "metadata": {},
   "outputs": [
    {
     "name": "stdout",
     "output_type": "stream",
     "text": [
      "I have a bruno\n",
      "my bruno's name is dog\n"
     ]
    }
   ],
   "source": [
    "describe_pet('bruno','dog')"
   ]
  },
  {
   "cell_type": "code",
   "execution_count": null,
   "id": "1a1b528b",
   "metadata": {},
   "outputs": [],
   "source": [
    "Note: By defualt functions accept the positional arguments.\n",
    "\n",
    "1. positional arguments :\n",
    "    \n",
    "we have to pass the arguments in the order of the parameter defined."
   ]
  },
  {
   "cell_type": "code",
   "execution_count": null,
   "id": "687c0893",
   "metadata": {},
   "outputs": [],
   "source": []
  },
  {
   "cell_type": "code",
   "execution_count": 11,
   "id": "e59215e7",
   "metadata": {},
   "outputs": [
    {
     "name": "stdout",
     "output_type": "stream",
     "text": [
      "I have a cat\n",
      "my cat's name is snowbell\n"
     ]
    }
   ],
   "source": [
    "describe_pet(pet_name='snowbell', animal_type = 'cat')"
   ]
  },
  {
   "cell_type": "code",
   "execution_count": null,
   "id": "c9eeb2c4",
   "metadata": {},
   "outputs": [],
   "source": [
    "2. keyword arguments ====> we will defining the keys *"
   ]
  },
  {
   "cell_type": "code",
   "execution_count": null,
   "id": "eb0c1d27",
   "metadata": {},
   "outputs": [],
   "source": []
  },
  {
   "cell_type": "code",
   "execution_count": null,
   "id": "ea7d2797",
   "metadata": {},
   "outputs": [],
   "source": [
    "3. Defualt arguments:"
   ]
  },
  {
   "cell_type": "code",
   "execution_count": null,
   "id": "1bbb49b0",
   "metadata": {},
   "outputs": [],
   "source": []
  },
  {
   "cell_type": "code",
   "execution_count": 12,
   "id": "7f32242b",
   "metadata": {},
   "outputs": [
    {
     "ename": "TypeError",
     "evalue": "describe_pet() missing 1 required positional argument: 'pet_name'",
     "output_type": "error",
     "traceback": [
      "\u001b[0;31m---------------------------------------------------------------------------\u001b[0m",
      "\u001b[0;31mTypeError\u001b[0m                                 Traceback (most recent call last)",
      "\u001b[0;32m<ipython-input-12-41916f1840fa>\u001b[0m in \u001b[0;36m<module>\u001b[0;34m\u001b[0m\n\u001b[0;32m----> 1\u001b[0;31m \u001b[0mdescribe_pet\u001b[0m\u001b[0;34m(\u001b[0m\u001b[0;34m'rex'\u001b[0m\u001b[0;34m)\u001b[0m\u001b[0;34m\u001b[0m\u001b[0;34m\u001b[0m\u001b[0m\n\u001b[0m",
      "\u001b[0;31mTypeError\u001b[0m: describe_pet() missing 1 required positional argument: 'pet_name'"
     ]
    }
   ],
   "source": [
    "describe_pet('rex')"
   ]
  },
  {
   "cell_type": "code",
   "execution_count": null,
   "id": "46f67adb",
   "metadata": {},
   "outputs": [],
   "source": [
    "#"
   ]
  },
  {
   "cell_type": "code",
   "execution_count": 13,
   "id": "435b9e8e",
   "metadata": {},
   "outputs": [
    {
     "ename": "SyntaxError",
     "evalue": "non-default argument follows default argument (<ipython-input-13-6fd357a8062b>, line 1)",
     "output_type": "error",
     "traceback": [
      "\u001b[0;36m  File \u001b[0;32m\"<ipython-input-13-6fd357a8062b>\"\u001b[0;36m, line \u001b[0;32m1\u001b[0m\n\u001b[0;31m    def describe_pet(animal_type = 'dog',pet_name):\u001b[0m\n\u001b[0m                     ^\u001b[0m\n\u001b[0;31mSyntaxError\u001b[0m\u001b[0;31m:\u001b[0m non-default argument follows default argument\n"
     ]
    }
   ],
   "source": [
    "\n",
    "def describe_pet(animal_type = 'dog',pet_name):\n",
    "    \"\"\"creating a function for describing the pet\"\"\"\n",
    "    print(f\"I have a {animal_type}\")\n",
    "    print(f\"my {animal_type}'s name is {pet_name}\")"
   ]
  },
  {
   "cell_type": "code",
   "execution_count": 14,
   "id": "49c6e618",
   "metadata": {},
   "outputs": [],
   "source": [
    "\n",
    "def describe_pet(pet_name, animal_type = 'dog'):\n",
    "    \"\"\"creating a function for describing the pet\"\"\"\n",
    "    print(f\"I have a {animal_type}\")\n",
    "    print(f\"my {animal_type}'s name is {pet_name}\")"
   ]
  },
  {
   "cell_type": "code",
   "execution_count": 15,
   "id": "7b3e1542",
   "metadata": {},
   "outputs": [
    {
     "name": "stdout",
     "output_type": "stream",
     "text": [
      "I have a dog\n",
      "my dog's name is rex\n"
     ]
    }
   ],
   "source": [
    "describe_pet('rex')"
   ]
  },
  {
   "cell_type": "code",
   "execution_count": null,
   "id": "4368b534",
   "metadata": {},
   "outputs": [],
   "source": []
  }
 ],
 "metadata": {
  "kernelspec": {
   "display_name": "Python 3",
   "language": "python",
   "name": "python3"
  },
  "language_info": {
   "codemirror_mode": {
    "name": "ipython",
    "version": 3
   },
   "file_extension": ".py",
   "mimetype": "text/x-python",
   "name": "python",
   "nbconvert_exporter": "python",
   "pygments_lexer": "ipython3",
   "version": "3.8.8"
  }
 },
 "nbformat": 4,
 "nbformat_minor": 5
}
