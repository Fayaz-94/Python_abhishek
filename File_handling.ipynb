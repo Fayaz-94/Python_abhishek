{
 "cells": [
  {
   "cell_type": "code",
   "execution_count": null,
   "id": "4acc3292",
   "metadata": {},
   "outputs": [],
   "source": []
  },
  {
   "cell_type": "code",
   "execution_count": null,
   "id": "2537491f",
   "metadata": {},
   "outputs": [],
   "source": [
    "File handling in Python:"
   ]
  },
  {
   "cell_type": "code",
   "execution_count": null,
   "id": "993a3605",
   "metadata": {},
   "outputs": [],
   "source": []
  },
  {
   "cell_type": "code",
   "execution_count": null,
   "id": "da8c6045",
   "metadata": {},
   "outputs": [],
   "source": [
    "uploading the file to the jupyter path:"
   ]
  },
  {
   "cell_type": "code",
   "execution_count": null,
   "id": "94bb14cc",
   "metadata": {},
   "outputs": [],
   "source": []
  },
  {
   "cell_type": "code",
   "execution_count": null,
   "id": "86107c25",
   "metadata": {},
   "outputs": [],
   "source": [
    "How to read the file."
   ]
  },
  {
   "cell_type": "code",
   "execution_count": 1,
   "id": "22c6908f",
   "metadata": {},
   "outputs": [
    {
     "name": "stdout",
     "output_type": "stream",
     "text": [
      "This is a sample text file\n"
     ]
    }
   ],
   "source": [
    "with open('sampletext.txt') as file_object:\n",
    "    contents = file_object.read()\n",
    "print(contents)"
   ]
  },
  {
   "cell_type": "code",
   "execution_count": null,
   "id": "94cb77ef",
   "metadata": {},
   "outputs": [],
   "source": []
  },
  {
   "cell_type": "code",
   "execution_count": 2,
   "id": "e70625c7",
   "metadata": {},
   "outputs": [
    {
     "name": "stdout",
     "output_type": "stream",
     "text": [
      "This is a sample text file\n"
     ]
    }
   ],
   "source": [
    "with open('sampletext.txt') as x:\n",
    "    con = x.read()\n",
    "print(con)"
   ]
  },
  {
   "cell_type": "code",
   "execution_count": null,
   "id": "c6812605",
   "metadata": {},
   "outputs": [],
   "source": []
  },
  {
   "cell_type": "code",
   "execution_count": 5,
   "id": "3e800d3e",
   "metadata": {},
   "outputs": [],
   "source": [
    "a = 'sampletext.txt'"
   ]
  },
  {
   "cell_type": "code",
   "execution_count": 6,
   "id": "b8302de7",
   "metadata": {},
   "outputs": [
    {
     "name": "stdout",
     "output_type": "stream",
     "text": [
      "This is a sample text file\n"
     ]
    }
   ],
   "source": [
    "with open(a) as b:\n",
    "    con = b.read()\n",
    "print(con)"
   ]
  },
  {
   "cell_type": "code",
   "execution_count": null,
   "id": "009c3bc9",
   "metadata": {},
   "outputs": [],
   "source": []
  },
  {
   "cell_type": "code",
   "execution_count": null,
   "id": "a5f65cef",
   "metadata": {},
   "outputs": [],
   "source": [
    "how to write the data on the file:"
   ]
  },
  {
   "cell_type": "code",
   "execution_count": 7,
   "id": "e495978a",
   "metadata": {},
   "outputs": [],
   "source": [
    "with open('sampletext.txt','w') as file_object:\n",
    "    file_object.write(\"python is the most demandig prog language\")"
   ]
  },
  {
   "cell_type": "code",
   "execution_count": null,
   "id": "f6149f26",
   "metadata": {},
   "outputs": [],
   "source": []
  },
  {
   "cell_type": "code",
   "execution_count": 8,
   "id": "c814a3aa",
   "metadata": {},
   "outputs": [
    {
     "name": "stdout",
     "output_type": "stream",
     "text": [
      "python is the most demandig prog language\n"
     ]
    }
   ],
   "source": [
    "with open('sampletext.txt') as file_object:\n",
    "    contents = file_object.read()\n",
    "print(contents)"
   ]
  },
  {
   "cell_type": "code",
   "execution_count": null,
   "id": "dd8679f8",
   "metadata": {},
   "outputs": [],
   "source": []
  },
  {
   "cell_type": "code",
   "execution_count": null,
   "id": "15bed9b4",
   "metadata": {},
   "outputs": [],
   "source": [
    "how to append the data to the file ."
   ]
  },
  {
   "cell_type": "code",
   "execution_count": 9,
   "id": "6d3a3671",
   "metadata": {},
   "outputs": [],
   "source": [
    "with open('sampletext.txt','a') as file_object:\n",
    "    file_object.write(\"this is a appneded document\")"
   ]
  },
  {
   "cell_type": "code",
   "execution_count": 10,
   "id": "24e3f24c",
   "metadata": {},
   "outputs": [
    {
     "name": "stdout",
     "output_type": "stream",
     "text": [
      "python is the most demandig prog languagethis is a appneded document\n"
     ]
    }
   ],
   "source": [
    "with open('sampletext.txt') as file_object:\n",
    "    contents = file_object.read()\n",
    "print(contents)"
   ]
  },
  {
   "cell_type": "code",
   "execution_count": 11,
   "id": "2d7a73b7",
   "metadata": {},
   "outputs": [],
   "source": [
    "with open('sampletext.txt','a') as file_object:\n",
    "    file_object.write(\"\\nthis is a  new appneded document\")"
   ]
  },
  {
   "cell_type": "code",
   "execution_count": 12,
   "id": "614d725b",
   "metadata": {},
   "outputs": [
    {
     "name": "stdout",
     "output_type": "stream",
     "text": [
      "python is the most demandig prog languagethis is a appneded document\n",
      "this is a  new appneded document\n"
     ]
    }
   ],
   "source": [
    "with open('sampletext.txt') as file_object:\n",
    "    contents = file_object.read()\n",
    "print(contents)"
   ]
  },
  {
   "cell_type": "code",
   "execution_count": null,
   "id": "5f1a90d4",
   "metadata": {},
   "outputs": [],
   "source": []
  },
  {
   "cell_type": "code",
   "execution_count": null,
   "id": "40315f0d",
   "metadata": {},
   "outputs": [],
   "source": [
    "how to load the data to the jupyter notebook\n",
    "\n",
    "how to read the data\n",
    "\n",
    "how to write the data\n",
    "\n",
    "\n",
    "how to append the data."
   ]
  },
  {
   "cell_type": "code",
   "execution_count": null,
   "id": "ab4c83dd",
   "metadata": {},
   "outputs": [],
   "source": []
  },
  {
   "cell_type": "code",
   "execution_count": null,
   "id": "cb865cea",
   "metadata": {},
   "outputs": [],
   "source": [
    "Exceptional handling :"
   ]
  },
  {
   "cell_type": "code",
   "execution_count": null,
   "id": "4daf477c",
   "metadata": {},
   "outputs": [],
   "source": []
  },
  {
   "cell_type": "code",
   "execution_count": null,
   "id": "2ad3d6f8",
   "metadata": {},
   "outputs": [],
   "source": [
    "Reading the data."
   ]
  },
  {
   "cell_type": "code",
   "execution_count": null,
   "id": "8d346dab",
   "metadata": {},
   "outputs": [],
   "source": []
  },
  {
   "cell_type": "code",
   "execution_count": 13,
   "id": "6e903b28",
   "metadata": {},
   "outputs": [],
   "source": [
    "INPUT = 'unknown.txt'"
   ]
  },
  {
   "cell_type": "code",
   "execution_count": null,
   "id": "6b50f588",
   "metadata": {},
   "outputs": [],
   "source": []
  },
  {
   "cell_type": "code",
   "execution_count": 14,
   "id": "72008c27",
   "metadata": {},
   "outputs": [
    {
     "ename": "FileNotFoundError",
     "evalue": "[Errno 2] No such file or directory: 'unknown.txt'",
     "output_type": "error",
     "traceback": [
      "\u001b[0;31m---------------------------------------------------------------------------\u001b[0m",
      "\u001b[0;31mFileNotFoundError\u001b[0m                         Traceback (most recent call last)",
      "\u001b[0;32m<ipython-input-14-25c1aa457cff>\u001b[0m in \u001b[0;36m<module>\u001b[0;34m\u001b[0m\n\u001b[0;32m----> 1\u001b[0;31m \u001b[0;32mwith\u001b[0m \u001b[0mopen\u001b[0m\u001b[0;34m(\u001b[0m\u001b[0mINPUT\u001b[0m\u001b[0;34m)\u001b[0m \u001b[0;32mas\u001b[0m \u001b[0mfile_object\u001b[0m\u001b[0;34m:\u001b[0m\u001b[0;34m\u001b[0m\u001b[0;34m\u001b[0m\u001b[0m\n\u001b[0m\u001b[1;32m      2\u001b[0m     \u001b[0mcon\u001b[0m \u001b[0;34m=\u001b[0m \u001b[0mfile_object\u001b[0m\u001b[0;34m.\u001b[0m\u001b[0mread\u001b[0m\u001b[0;34m(\u001b[0m\u001b[0;34m)\u001b[0m\u001b[0;34m\u001b[0m\u001b[0;34m\u001b[0m\u001b[0m\n\u001b[1;32m      3\u001b[0m \u001b[0mprint\u001b[0m\u001b[0;34m(\u001b[0m\u001b[0mcon\u001b[0m\u001b[0;34m)\u001b[0m\u001b[0;34m\u001b[0m\u001b[0;34m\u001b[0m\u001b[0m\n",
      "\u001b[0;31mFileNotFoundError\u001b[0m: [Errno 2] No such file or directory: 'unknown.txt'"
     ]
    }
   ],
   "source": [
    "with open(INPUT) as file_object:\n",
    "    con = file_object.read()\n",
    "print(con)"
   ]
  },
  {
   "cell_type": "code",
   "execution_count": null,
   "id": "574c95ba",
   "metadata": {},
   "outputs": [],
   "source": []
  },
  {
   "cell_type": "code",
   "execution_count": 15,
   "id": "44bed1c2",
   "metadata": {},
   "outputs": [
    {
     "name": "stdout",
     "output_type": "stream",
     "text": [
      "pls check the file exist in the system or not before reading it\n"
     ]
    }
   ],
   "source": [
    "try:\n",
    "    \n",
    "    with open(INPUT) as file_object:\n",
    "        con = file_object.read()\n",
    "    print(con)\n",
    "except FileNotFoundError:\n",
    "    print(\"pls check the file exist in the system or not before reading it\")"
   ]
  },
  {
   "cell_type": "code",
   "execution_count": null,
   "id": "6b5af561",
   "metadata": {},
   "outputs": [],
   "source": []
  },
  {
   "cell_type": "code",
   "execution_count": null,
   "id": "74c8ad21",
   "metadata": {},
   "outputs": [],
   "source": [
    "Zero divioson\n",
    "\n",
    "FileNotFoundError"
   ]
  },
  {
   "cell_type": "code",
   "execution_count": null,
   "id": "074bce31",
   "metadata": {},
   "outputs": [],
   "source": []
  },
  {
   "cell_type": "code",
   "execution_count": null,
   "id": "9acd9b16",
   "metadata": {},
   "outputs": [],
   "source": [
    "\n",
    "\n",
    "1. Nummpy\n",
    "\n",
    "2. Pandas\n",
    "\n",
    "3. Matplotlib"
   ]
  },
  {
   "cell_type": "code",
   "execution_count": null,
   "id": "abef38a9",
   "metadata": {},
   "outputs": [],
   "source": []
  },
  {
   "cell_type": "code",
   "execution_count": null,
   "id": "35a22f0c",
   "metadata": {},
   "outputs": [],
   "source": []
  },
  {
   "cell_type": "code",
   "execution_count": null,
   "id": "1d46f562",
   "metadata": {},
   "outputs": [],
   "source": []
  },
  {
   "cell_type": "code",
   "execution_count": null,
   "id": "48c62e8a",
   "metadata": {},
   "outputs": [],
   "source": []
  }
 ],
 "metadata": {
  "kernelspec": {
   "display_name": "Python 3",
   "language": "python",
   "name": "python3"
  },
  "language_info": {
   "codemirror_mode": {
    "name": "ipython",
    "version": 3
   },
   "file_extension": ".py",
   "mimetype": "text/x-python",
   "name": "python",
   "nbconvert_exporter": "python",
   "pygments_lexer": "ipython3",
   "version": "3.8.8"
  }
 },
 "nbformat": 4,
 "nbformat_minor": 5
}
