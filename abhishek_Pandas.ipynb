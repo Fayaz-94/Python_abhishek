{
 "cells": [
  {
   "cell_type": "code",
   "execution_count": null,
   "id": "64dd23f7",
   "metadata": {},
   "outputs": [],
   "source": [
    "Advanced Concepts :"
   ]
  },
  {
   "cell_type": "code",
   "execution_count": null,
   "id": "84295c67",
   "metadata": {},
   "outputs": [],
   "source": [
    "------> Numpy\n",
    "\n",
    "------> Pandas\n",
    "\n",
    "------> Matplob"
   ]
  },
  {
   "cell_type": "code",
   "execution_count": null,
   "id": "6cbeb9e9",
   "metadata": {},
   "outputs": [],
   "source": []
  },
  {
   "cell_type": "code",
   "execution_count": null,
   "id": "8c14a6db",
   "metadata": {},
   "outputs": [],
   "source": [
    "3rd party libraries of python :"
   ]
  },
  {
   "cell_type": "code",
   "execution_count": null,
   "id": "ef043724",
   "metadata": {},
   "outputs": [],
   "source": []
  },
  {
   "cell_type": "code",
   "execution_count": null,
   "id": "04892e20",
   "metadata": {},
   "outputs": [],
   "source": [
    "Introduction to pandas : =====> pd"
   ]
  },
  {
   "cell_type": "code",
   "execution_count": null,
   "id": "7b164275",
   "metadata": {},
   "outputs": [],
   "source": [
    "Pandas is extremely used for doing the data analysis. all the data handling task and transformation will be done by \n",
    "\n",
    "using the pandas.\n",
    "\n",
    "Pandas is built on top of numpy."
   ]
  },
  {
   "cell_type": "code",
   "execution_count": null,
   "id": "0acf2d77",
   "metadata": {},
   "outputs": [],
   "source": []
  },
  {
   "cell_type": "code",
   "execution_count": null,
   "id": "a8e736d2",
   "metadata": {},
   "outputs": [],
   "source": [
    "Data types in Pandas :\n",
    "    \n",
    "    1. Series datatype  =======> it is a linear data type\n",
    "    \n",
    "    2. DataFrames =====> it is a two dimensional data structure and will be col and rows like a table"
   ]
  },
  {
   "cell_type": "code",
   "execution_count": null,
   "id": "1e4f952b",
   "metadata": {},
   "outputs": [],
   "source": []
  },
  {
   "cell_type": "code",
   "execution_count": null,
   "id": "c4bde64f",
   "metadata": {},
   "outputs": [],
   "source": [
    "Series datatype :"
   ]
  },
  {
   "cell_type": "code",
   "execution_count": null,
   "id": "ff4500b7",
   "metadata": {},
   "outputs": [],
   "source": [
    "Genral syntax of a series :"
   ]
  },
  {
   "cell_type": "code",
   "execution_count": null,
   "id": "a3eb829d",
   "metadata": {},
   "outputs": [],
   "source": [
    "pandas.Series(data,index,dtype)"
   ]
  },
  {
   "cell_type": "code",
   "execution_count": null,
   "id": "0c99e9b6",
   "metadata": {},
   "outputs": [],
   "source": []
  },
  {
   "cell_type": "code",
   "execution_count": null,
   "id": "b30c56c2",
   "metadata": {},
   "outputs": [],
   "source": [
    "A Series can be created using various like such as :\n",
    "    \n",
    "    array\n",
    "    dict\n",
    "    scalar value or constants."
   ]
  },
  {
   "cell_type": "code",
   "execution_count": null,
   "id": "9e867bcf",
   "metadata": {},
   "outputs": [],
   "source": []
  },
  {
   "cell_type": "code",
   "execution_count": 1,
   "id": "a124d846",
   "metadata": {},
   "outputs": [],
   "source": [
    "import numpy as np\n",
    "import pandas as pd"
   ]
  },
  {
   "cell_type": "code",
   "execution_count": null,
   "id": "c4e7be55",
   "metadata": {},
   "outputs": [],
   "source": []
  },
  {
   "cell_type": "code",
   "execution_count": null,
   "id": "09fa1240",
   "metadata": {},
   "outputs": [],
   "source": [
    "# Creaing an empty Series :"
   ]
  },
  {
   "cell_type": "code",
   "execution_count": 2,
   "id": "0bc81700",
   "metadata": {},
   "outputs": [
    {
     "name": "stdout",
     "output_type": "stream",
     "text": [
      "Series([], dtype: float64)\n"
     ]
    },
    {
     "name": "stderr",
     "output_type": "stream",
     "text": [
      "<ipython-input-2-c6cc324d4e79>:1: DeprecationWarning: The default dtype for empty Series will be 'object' instead of 'float64' in a future version. Specify a dtype explicitly to silence this warning.\n",
      "  s = pd.Series()\n"
     ]
    }
   ],
   "source": [
    "s = pd.Series()\n",
    "\n",
    "print(s)"
   ]
  },
  {
   "cell_type": "code",
   "execution_count": null,
   "id": "c3602b57",
   "metadata": {},
   "outputs": [],
   "source": []
  },
  {
   "cell_type": "code",
   "execution_count": 3,
   "id": "9ef10aea",
   "metadata": {},
   "outputs": [],
   "source": [
    "data = np.array(['a','b','c','d','e'])"
   ]
  },
  {
   "cell_type": "code",
   "execution_count": 4,
   "id": "441a23a3",
   "metadata": {},
   "outputs": [
    {
     "name": "stdout",
     "output_type": "stream",
     "text": [
      "0    a\n",
      "1    b\n",
      "2    c\n",
      "3    d\n",
      "4    e\n",
      "dtype: object\n"
     ]
    }
   ],
   "source": [
    "s = pd.Series(data)\n",
    "\n",
    "print(s)"
   ]
  },
  {
   "cell_type": "code",
   "execution_count": null,
   "id": "140e2c96",
   "metadata": {},
   "outputs": [],
   "source": []
  },
  {
   "cell_type": "code",
   "execution_count": null,
   "id": "611926f8",
   "metadata": {},
   "outputs": [],
   "source": [
    "# defining our own custom indexes ."
   ]
  },
  {
   "cell_type": "code",
   "execution_count": 5,
   "id": "ff30ace5",
   "metadata": {},
   "outputs": [
    {
     "name": "stdout",
     "output_type": "stream",
     "text": [
      "100    a\n",
      "101    b\n",
      "102    c\n",
      "103    d\n",
      "104    e\n",
      "dtype: object\n"
     ]
    }
   ],
   "source": [
    "s = pd.Series(data, index=[100,101,102,103,104])\n",
    "\n",
    "print(s)"
   ]
  },
  {
   "cell_type": "code",
   "execution_count": 6,
   "id": "0a540c2f",
   "metadata": {},
   "outputs": [
    {
     "ename": "ValueError",
     "evalue": "Length of passed values is 5, index implies 4.",
     "output_type": "error",
     "traceback": [
      "\u001b[0;31m---------------------------------------------------------------------------\u001b[0m",
      "\u001b[0;31mValueError\u001b[0m                                Traceback (most recent call last)",
      "\u001b[0;32m<ipython-input-6-f7506f4c586e>\u001b[0m in \u001b[0;36m<module>\u001b[0;34m\u001b[0m\n\u001b[0;32m----> 1\u001b[0;31m \u001b[0ms\u001b[0m \u001b[0;34m=\u001b[0m \u001b[0mpd\u001b[0m\u001b[0;34m.\u001b[0m\u001b[0mSeries\u001b[0m\u001b[0;34m(\u001b[0m\u001b[0mdata\u001b[0m\u001b[0;34m,\u001b[0m \u001b[0mindex\u001b[0m\u001b[0;34m=\u001b[0m\u001b[0;34m[\u001b[0m\u001b[0;36m100\u001b[0m\u001b[0;34m,\u001b[0m\u001b[0;36m101\u001b[0m\u001b[0;34m,\u001b[0m\u001b[0;36m102\u001b[0m\u001b[0;34m,\u001b[0m\u001b[0;36m103\u001b[0m\u001b[0;34m]\u001b[0m\u001b[0;34m)\u001b[0m\u001b[0;34m\u001b[0m\u001b[0;34m\u001b[0m\u001b[0m\n\u001b[0m\u001b[1;32m      2\u001b[0m \u001b[0;34m\u001b[0m\u001b[0m\n\u001b[1;32m      3\u001b[0m \u001b[0mprint\u001b[0m\u001b[0;34m(\u001b[0m\u001b[0ms\u001b[0m\u001b[0;34m)\u001b[0m\u001b[0;34m\u001b[0m\u001b[0;34m\u001b[0m\u001b[0m\n",
      "\u001b[0;32m~/opt/anaconda3/lib/python3.8/site-packages/pandas/core/series.py\u001b[0m in \u001b[0;36m__init__\u001b[0;34m(self, data, index, dtype, name, copy, fastpath)\u001b[0m\n\u001b[1;32m    348\u001b[0m                 \u001b[0;32mtry\u001b[0m\u001b[0;34m:\u001b[0m\u001b[0;34m\u001b[0m\u001b[0;34m\u001b[0m\u001b[0m\n\u001b[1;32m    349\u001b[0m                     \u001b[0;32mif\u001b[0m \u001b[0mlen\u001b[0m\u001b[0;34m(\u001b[0m\u001b[0mindex\u001b[0m\u001b[0;34m)\u001b[0m \u001b[0;34m!=\u001b[0m \u001b[0mlen\u001b[0m\u001b[0;34m(\u001b[0m\u001b[0mdata\u001b[0m\u001b[0;34m)\u001b[0m\u001b[0;34m:\u001b[0m\u001b[0;34m\u001b[0m\u001b[0;34m\u001b[0m\u001b[0m\n\u001b[0;32m--> 350\u001b[0;31m                         raise ValueError(\n\u001b[0m\u001b[1;32m    351\u001b[0m                             \u001b[0;34mf\"Length of passed values is {len(data)}, \"\u001b[0m\u001b[0;34m\u001b[0m\u001b[0;34m\u001b[0m\u001b[0m\n\u001b[1;32m    352\u001b[0m                             \u001b[0;34mf\"index implies {len(index)}.\"\u001b[0m\u001b[0;34m\u001b[0m\u001b[0;34m\u001b[0m\u001b[0m\n",
      "\u001b[0;31mValueError\u001b[0m: Length of passed values is 5, index implies 4."
     ]
    }
   ],
   "source": [
    "s = pd.Series(data, index=[100,101,102,103])\n",
    "\n",
    "print(s)"
   ]
  },
  {
   "cell_type": "code",
   "execution_count": null,
   "id": "96cdbaa3",
   "metadata": {},
   "outputs": [],
   "source": []
  },
  {
   "cell_type": "code",
   "execution_count": null,
   "id": "73d7a76b",
   "metadata": {},
   "outputs": [],
   "source": [
    "# creating a series from a dictionary :"
   ]
  },
  {
   "cell_type": "code",
   "execution_count": 7,
   "id": "4a14f023",
   "metadata": {},
   "outputs": [],
   "source": [
    "data = {'a':0,'b':1,'c':2,'d':3}"
   ]
  },
  {
   "cell_type": "code",
   "execution_count": 8,
   "id": "fa01193f",
   "metadata": {},
   "outputs": [
    {
     "name": "stdout",
     "output_type": "stream",
     "text": [
      "a    0\n",
      "b    1\n",
      "c    2\n",
      "d    3\n",
      "dtype: int64\n"
     ]
    }
   ],
   "source": [
    "s = pd.Series(data)\n",
    "\n",
    "print(s)"
   ]
  },
  {
   "cell_type": "code",
   "execution_count": null,
   "id": "9cc295ce",
   "metadata": {},
   "outputs": [],
   "source": [
    "Note : In a dict indexes wil be acting act keys and value is the data."
   ]
  },
  {
   "cell_type": "code",
   "execution_count": null,
   "id": "a1f196e2",
   "metadata": {},
   "outputs": [],
   "source": []
  },
  {
   "cell_type": "code",
   "execution_count": 9,
   "id": "c8683c35",
   "metadata": {},
   "outputs": [],
   "source": [
    "data = {'a':0,'b':1,'c':2,'d':3}"
   ]
  },
  {
   "cell_type": "code",
   "execution_count": 10,
   "id": "5ff471bf",
   "metadata": {},
   "outputs": [
    {
     "name": "stdout",
     "output_type": "stream",
     "text": [
      "b    1.0\n",
      "c    2.0\n",
      "e    NaN\n",
      "f    NaN\n",
      "a    0.0\n",
      "d    3.0\n",
      "dtype: float64\n"
     ]
    }
   ],
   "source": [
    "s = pd.Series(data, index=['b','c','e','f','a','d'])\n",
    "\n",
    "print(s)"
   ]
  },
  {
   "cell_type": "code",
   "execution_count": null,
   "id": "571d21b6",
   "metadata": {},
   "outputs": [],
   "source": []
  },
  {
   "cell_type": "code",
   "execution_count": null,
   "id": "20eadae7",
   "metadata": {},
   "outputs": [],
   "source": [
    "Nan ====> Not a number , it will be converted in the float."
   ]
  },
  {
   "cell_type": "code",
   "execution_count": null,
   "id": "7e003ee0",
   "metadata": {},
   "outputs": [],
   "source": []
  },
  {
   "cell_type": "code",
   "execution_count": null,
   "id": "2cbfe5b0",
   "metadata": {},
   "outputs": [],
   "source": [
    "creating a series from a scalar."
   ]
  },
  {
   "cell_type": "code",
   "execution_count": null,
   "id": "08d07439",
   "metadata": {},
   "outputs": [],
   "source": []
  },
  {
   "cell_type": "code",
   "execution_count": 11,
   "id": "2be2c096",
   "metadata": {},
   "outputs": [
    {
     "name": "stdout",
     "output_type": "stream",
     "text": [
      "0    5\n",
      "1    5\n",
      "2    5\n",
      "3    5\n",
      "dtype: int64\n"
     ]
    }
   ],
   "source": [
    "s = pd.Series(5, index=[0,1,2,3])\n",
    "\n",
    "print(s)"
   ]
  },
  {
   "cell_type": "code",
   "execution_count": null,
   "id": "3afa4284",
   "metadata": {},
   "outputs": [],
   "source": []
  },
  {
   "cell_type": "code",
   "execution_count": null,
   "id": "0b1d59ae",
   "metadata": {},
   "outputs": [],
   "source": []
  },
  {
   "cell_type": "code",
   "execution_count": 12,
   "id": "c216b120",
   "metadata": {},
   "outputs": [],
   "source": [
    "data = np.array(['a','b','c','d','e'])"
   ]
  },
  {
   "cell_type": "code",
   "execution_count": null,
   "id": "ccaa2a66",
   "metadata": {},
   "outputs": [],
   "source": []
  },
  {
   "cell_type": "code",
   "execution_count": null,
   "id": "c0b1ee52",
   "metadata": {},
   "outputs": [],
   "source": [
    "# how to access the elements ======>"
   ]
  },
  {
   "cell_type": "code",
   "execution_count": 13,
   "id": "677e042b",
   "metadata": {},
   "outputs": [
    {
     "name": "stdout",
     "output_type": "stream",
     "text": [
      "5\n"
     ]
    }
   ],
   "source": [
    "print(s[0])"
   ]
  },
  {
   "cell_type": "code",
   "execution_count": 14,
   "id": "7201d298",
   "metadata": {},
   "outputs": [
    {
     "name": "stdout",
     "output_type": "stream",
     "text": [
      "a\n"
     ]
    }
   ],
   "source": [
    "print(data[0])"
   ]
  },
  {
   "cell_type": "code",
   "execution_count": null,
   "id": "d9c6976d",
   "metadata": {},
   "outputs": [],
   "source": []
  },
  {
   "cell_type": "code",
   "execution_count": null,
   "id": "e59739da",
   "metadata": {},
   "outputs": [],
   "source": [
    "Getting started with the dataframes :"
   ]
  },
  {
   "cell_type": "code",
   "execution_count": null,
   "id": "1bff4557",
   "metadata": {},
   "outputs": [],
   "source": []
  },
  {
   "cell_type": "code",
   "execution_count": null,
   "id": "4ce399db",
   "metadata": {},
   "outputs": [],
   "source": [
    "Genral syntax of a data frame :"
   ]
  },
  {
   "cell_type": "code",
   "execution_count": null,
   "id": "6569dbf2",
   "metadata": {},
   "outputs": [],
   "source": [
    "pandas.DataFrame(data,index,columns,dtype)"
   ]
  },
  {
   "cell_type": "code",
   "execution_count": null,
   "id": "b25fc5a7",
   "metadata": {},
   "outputs": [],
   "source": []
  },
  {
   "cell_type": "code",
   "execution_count": null,
   "id": "09d24595",
   "metadata": {},
   "outputs": [],
   "source": [
    "creating an empty dataframe :"
   ]
  },
  {
   "cell_type": "code",
   "execution_count": null,
   "id": "87118916",
   "metadata": {},
   "outputs": [],
   "source": []
  },
  {
   "cell_type": "code",
   "execution_count": 15,
   "id": "ff79b8e6",
   "metadata": {},
   "outputs": [
    {
     "name": "stdout",
     "output_type": "stream",
     "text": [
      "Empty DataFrame\n",
      "Columns: []\n",
      "Index: []\n"
     ]
    }
   ],
   "source": [
    "df = pd.DataFrame()\n",
    "\n",
    "print(df)"
   ]
  },
  {
   "cell_type": "code",
   "execution_count": null,
   "id": "bd8a521a",
   "metadata": {},
   "outputs": [],
   "source": []
  },
  {
   "cell_type": "code",
   "execution_count": null,
   "id": "34dda9df",
   "metadata": {},
   "outputs": [],
   "source": [
    "creaing a dataframe from a list :"
   ]
  },
  {
   "cell_type": "code",
   "execution_count": 16,
   "id": "fcd0f2f8",
   "metadata": {},
   "outputs": [
    {
     "name": "stdout",
     "output_type": "stream",
     "text": [
      "   0\n",
      "0  1\n",
      "1  2\n",
      "2  3\n",
      "3  4\n",
      "4  5\n"
     ]
    }
   ],
   "source": [
    "data = [1,2,3,4,5]\n",
    "\n",
    "df = pd.DataFrame(data)\n",
    "\n",
    "print(df)"
   ]
  },
  {
   "cell_type": "code",
   "execution_count": null,
   "id": "cc2f4d6c",
   "metadata": {},
   "outputs": [],
   "source": []
  },
  {
   "cell_type": "code",
   "execution_count": 17,
   "id": "dc80e8a7",
   "metadata": {},
   "outputs": [],
   "source": [
    "data = [['nisha',10],['keerthi',9],['abhishek',9],['naveen',8]]"
   ]
  },
  {
   "cell_type": "code",
   "execution_count": 18,
   "id": "60870de9",
   "metadata": {},
   "outputs": [
    {
     "name": "stdout",
     "output_type": "stream",
     "text": [
      "       Name  Marks\n",
      "0     nisha     10\n",
      "1   keerthi      9\n",
      "2  abhishek      9\n",
      "3    naveen      8\n"
     ]
    }
   ],
   "source": [
    "df = pd.DataFrame(data,columns=['Name','Marks'])\n",
    "\n",
    "print(df)"
   ]
  },
  {
   "cell_type": "code",
   "execution_count": null,
   "id": "76e17392",
   "metadata": {},
   "outputs": [],
   "source": []
  }
 ],
 "metadata": {
  "kernelspec": {
   "display_name": "Python 3",
   "language": "python",
   "name": "python3"
  },
  "language_info": {
   "codemirror_mode": {
    "name": "ipython",
    "version": 3
   },
   "file_extension": ".py",
   "mimetype": "text/x-python",
   "name": "python",
   "nbconvert_exporter": "python",
   "pygments_lexer": "ipython3",
   "version": "3.8.8"
  }
 },
 "nbformat": 4,
 "nbformat_minor": 5
}
