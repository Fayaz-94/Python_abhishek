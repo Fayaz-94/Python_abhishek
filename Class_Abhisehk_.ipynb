{
 "cells": [
  {
   "cell_type": "code",
   "execution_count": null,
   "id": "344454c8",
   "metadata": {},
   "outputs": [],
   "source": [
    "introduction to clases:"
   ]
  },
  {
   "cell_type": "code",
   "execution_count": null,
   "id": "c2e45eb0",
   "metadata": {},
   "outputs": [],
   "source": [
    "class as a keyword for defining the clases.\n",
    "\n",
    "while giving the class name we have to use the titlecase."
   ]
  },
  {
   "cell_type": "code",
   "execution_count": null,
   "id": "c1d2b689",
   "metadata": {},
   "outputs": [],
   "source": []
  },
  {
   "cell_type": "code",
   "execution_count": null,
   "id": "03bb1f16",
   "metadata": {},
   "outputs": [],
   "source": [
    "# req : create a greet class and create the below methods for the said class.\n",
    "\n",
    "# username\n",
    "\n",
    "# displayname\n",
    "\n",
    "# greetname."
   ]
  },
  {
   "cell_type": "code",
   "execution_count": null,
   "id": "f9afe634",
   "metadata": {},
   "outputs": [],
   "source": [
    "defination : Class is nothing but a blue print of the program."
   ]
  },
  {
   "cell_type": "code",
   "execution_count": 1,
   "id": "be84fcf5",
   "metadata": {},
   "outputs": [],
   "source": [
    "\n",
    "\n",
    "class Greet:\n",
    "    \"\"\"creating a Greet class\"\"\"\n",
    "    \n",
    "    def username(self,name,age,adress):  # param\n",
    "        self.name = name   # test.name = 'abhishek'\n",
    "        self.age = age\n",
    "        self.adress = adress\n",
    "        \n",
    "    def displayname(self):\n",
    "        print(self.name)\n",
    "        \n",
    "    def greetname(self):\n",
    "        print(f\"Hello, good morning....,{self.name}\")"
   ]
  },
  {
   "cell_type": "code",
   "execution_count": null,
   "id": "29f74c11",
   "metadata": {},
   "outputs": [],
   "source": []
  },
  {
   "cell_type": "code",
   "execution_count": null,
   "id": "ce1fde7c",
   "metadata": {},
   "outputs": [],
   "source": [
    "for accessing the class methods we have to assign the class to the object."
   ]
  },
  {
   "cell_type": "code",
   "execution_count": null,
   "id": "292190d5",
   "metadata": {},
   "outputs": [],
   "source": []
  },
  {
   "cell_type": "code",
   "execution_count": null,
   "id": "1fd70133",
   "metadata": {},
   "outputs": [],
   "source": [
    "class  ======> it is a high level blue print of the program.\n",
    "\n",
    "methods   ====> A function written inside a class is called as method.\n",
    "\n",
    "attributes ===> A variable written inside the class is called as attribute.\n",
    "\n",
    "self  =====> A self is a temp placeholder for an object.\n",
    "\n",
    "objects ===> An obj is an entry/access points to the class methods."
   ]
  },
  {
   "cell_type": "code",
   "execution_count": null,
   "id": "cd569fce",
   "metadata": {},
   "outputs": [],
   "source": []
  },
  {
   "cell_type": "code",
   "execution_count": 2,
   "id": "717ce930",
   "metadata": {},
   "outputs": [],
   "source": [
    "test = Greet()  # object ====> no args during assigment."
   ]
  },
  {
   "cell_type": "code",
   "execution_count": 3,
   "id": "93d44d8b",
   "metadata": {},
   "outputs": [],
   "source": [
    "test.username('abhishek',20,'hyderabad')"
   ]
  },
  {
   "cell_type": "code",
   "execution_count": 4,
   "id": "cd30a702",
   "metadata": {},
   "outputs": [
    {
     "name": "stdout",
     "output_type": "stream",
     "text": [
      "abhishek\n"
     ]
    }
   ],
   "source": [
    "test.displayname()"
   ]
  },
  {
   "cell_type": "code",
   "execution_count": 5,
   "id": "a11dc29b",
   "metadata": {},
   "outputs": [
    {
     "name": "stdout",
     "output_type": "stream",
     "text": [
      "Hello, good morning....,abhishek\n"
     ]
    }
   ],
   "source": [
    "test.greetname()"
   ]
  },
  {
   "cell_type": "code",
   "execution_count": null,
   "id": "c1ecd0f6",
   "metadata": {},
   "outputs": [],
   "source": []
  },
  {
   "cell_type": "code",
   "execution_count": null,
   "id": "6a598702",
   "metadata": {},
   "outputs": [],
   "source": [
    "understanding the constructor :**"
   ]
  },
  {
   "cell_type": "code",
   "execution_count": null,
   "id": "23ea0a51",
   "metadata": {},
   "outputs": [],
   "source": [
    "it is called as a magical method or special method.\n",
    "\n",
    "it is used to initialize the attribute/methods."
   ]
  },
  {
   "cell_type": "code",
   "execution_count": null,
   "id": "fa50deae",
   "metadata": {},
   "outputs": [],
   "source": [
    "def __init__(self)"
   ]
  },
  {
   "cell_type": "code",
   "execution_count": null,
   "id": "3a3b509d",
   "metadata": {},
   "outputs": [],
   "source": []
  },
  {
   "cell_type": "code",
   "execution_count": null,
   "id": "8786fc3b",
   "metadata": {},
   "outputs": [],
   "source": [
    "# create a Dog class and give the below methods for the dog.\n",
    "\n",
    "init ===> name and age\n",
    "\n",
    "jump\n",
    "\n",
    "rollover\n",
    "\n",
    "eat\n",
    "\n",
    "sleep\n",
    "\n",
    "details."
   ]
  },
  {
   "cell_type": "code",
   "execution_count": null,
   "id": "316195a6",
   "metadata": {},
   "outputs": [],
   "source": []
  },
  {
   "cell_type": "code",
   "execution_count": 6,
   "id": "72b4233b",
   "metadata": {},
   "outputs": [],
   "source": [
    "class Dog:\n",
    "    \"\"\"creaing a Dog class\"\"\"\n",
    "    \n",
    "    def __init__(self,name,age):\n",
    "        self.name = name\n",
    "        self.age = age\n",
    "        \n",
    "    def jump(self):\n",
    "        print(f\"{self.name} is now jumping on the command\")\n",
    "        \n",
    "    def rollover(self):\n",
    "        print(f\"{self.name} is now rolling over on the command\")\n",
    "        \n",
    "    def eat(self):\n",
    "        print(f\"{self.name} is now eating\")\n",
    "        \n",
    "    def sleep(self):\n",
    "        print(f\"{self.name} is sleeping\")\n",
    "        \n",
    "    def details(self):\n",
    "        print(f\"I have a dog named {self.name}\")\n",
    "        print(f\"my dogs age is {self.age}\")"
   ]
  },
  {
   "cell_type": "code",
   "execution_count": null,
   "id": "a01821e0",
   "metadata": {},
   "outputs": [],
   "source": []
  },
  {
   "cell_type": "code",
   "execution_count": 7,
   "id": "e94562a3",
   "metadata": {},
   "outputs": [],
   "source": [
    "test2 = Dog('rex',2)  # we can assigin the objects."
   ]
  },
  {
   "cell_type": "code",
   "execution_count": 8,
   "id": "4b9b166c",
   "metadata": {},
   "outputs": [
    {
     "name": "stdout",
     "output_type": "stream",
     "text": [
      "rex is now jumping on the command\n"
     ]
    }
   ],
   "source": [
    "test2.jump()"
   ]
  },
  {
   "cell_type": "code",
   "execution_count": 9,
   "id": "ee150052",
   "metadata": {},
   "outputs": [
    {
     "name": "stdout",
     "output_type": "stream",
     "text": [
      "rex is now eating\n"
     ]
    }
   ],
   "source": [
    "test2.eat()"
   ]
  },
  {
   "cell_type": "code",
   "execution_count": null,
   "id": "348c8bd2",
   "metadata": {},
   "outputs": [],
   "source": [
    "OOPS"
   ]
  }
 ],
 "metadata": {
  "kernelspec": {
   "display_name": "Python 3",
   "language": "python",
   "name": "python3"
  },
  "language_info": {
   "codemirror_mode": {
    "name": "ipython",
    "version": 3
   },
   "file_extension": ".py",
   "mimetype": "text/x-python",
   "name": "python",
   "nbconvert_exporter": "python",
   "pygments_lexer": "ipython3",
   "version": "3.8.8"
  }
 },
 "nbformat": 4,
 "nbformat_minor": 5
}
